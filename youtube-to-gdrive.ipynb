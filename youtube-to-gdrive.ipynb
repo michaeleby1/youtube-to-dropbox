{
 "cells": [
  {
   "cell_type": "code",
   "execution_count": 1,
   "metadata": {},
   "outputs": [],
   "source": [
    "from __future__ import unicode_literals\n",
    "import youtube_dl\n",
    "from youtube_dl import YoutubeDL\n",
    "import os\n",
    "import config\n",
    "from pydrive.auth import GoogleAuth\n",
    "from pydrive.drive import GoogleDrive"
   ]
  },
  {
   "cell_type": "code",
   "execution_count": 2,
   "metadata": {},
   "outputs": [],
   "source": [
    "gauth = GoogleAuth()           \n",
    "drive = GoogleDrive(gauth)  "
   ]
  },
  {
   "cell_type": "code",
   "execution_count": 9,
   "metadata": {},
   "outputs": [
    {
     "name": "stdout",
     "output_type": "stream",
     "text": [
      "Enter the video link: https://www.youtube.com/watch?v=wFeFPNmjFMQ&list=PLWSJhabmkbWQKIljBwk_zgP-rYlTR6FHZ\n"
     ]
    }
   ],
   "source": [
    "# test playlist:\n",
    "# https://www.youtube.com/watch?v=wFeFPNmjFMQ&list=PLWSJhabmkbWQKIljBwk_zgP-rYlTR6FHZ\n",
    "\n",
    "link = input(\"Enter the video link: \")"
   ]
  },
  {
   "cell_type": "code",
   "execution_count": 27,
   "metadata": {},
   "outputs": [],
   "source": [
    "ydl_opts = {\n",
    "    'format': 'bestaudio/best',\n",
    "    'cachedir': False,\n",
    "#     'playliststart': 18,\n",
    "    'postprocessors': [{\n",
    "        'key': 'FFmpegExtractAudio',\n",
    "        'preferredcodec': 'mp3',\n",
    "        'preferredquality': '192'\n",
    "        \n",
    "    }],\n",
    "}"
   ]
  },
  {
   "cell_type": "code",
   "execution_count": 28,
   "metadata": {},
   "outputs": [
    {
     "name": "stdout",
     "output_type": "stream",
     "text": [
      "[youtube:tab] Downloading playlist PLWSJhabmkbWQKIljBwk_zgP-rYlTR6FHZ - add --no-playlist to just download video wFeFPNmjFMQ\n",
      "[youtube:tab] PLWSJhabmkbWQKIljBwk_zgP-rYlTR6FHZ: Downloading webpage\n",
      "[youtube:tab] PLWSJhabmkbWQKIljBwk_zgP-rYlTR6FHZ: Downloading webpage\n",
      "[download] Downloading playlist: Frederic Jameson, 1977\n",
      "[youtube:tab] playlist Frederic Jameson, 1977: Downloading 3 videos\n",
      "[download] Downloading video 1 of 3\n",
      "[youtube] fr38BzBmFNQ: Downloading webpage\n",
      "[youtube] fr38BzBmFNQ: Downloading MPD manifest\n",
      "[download] Destination: Frederic Jameson,  April 14 ,1978 Side 1 &  2-fr38BzBmFNQ.m4a\n",
      "[download] 100% of 92.59MiB in 25:3396KiB/s ETA 00:00550wn ETA\n",
      "[ffmpeg] Correcting container in \"Frederic Jameson,  April 14 ,1978 Side 1 &  2-fr38BzBmFNQ.m4a\"\n",
      "[ffmpeg] Destination: Frederic Jameson,  April 14 ,1978 Side 1 &  2-fr38BzBmFNQ.mp3\n",
      "Deleting original file Frederic Jameson,  April 14 ,1978 Side 1 &  2-fr38BzBmFNQ.m4a (pass -k to keep)\n",
      "[download] Downloading video 2 of 3\n",
      "[youtube] tvnWRr1w4RQ: Downloading webpage\n",
      "[youtube] tvnWRr1w4RQ: Downloading MPD manifest\n",
      "[download] Destination: Frederic Jameson, April 13,  1978,  Side 1 & 2-tvnWRr1w4RQ.m4a\n",
      "[download] 100% of 95.13MiB in 30:5763KiB/s ETA 00:00:19\n",
      "[ffmpeg] Correcting container in \"Frederic Jameson, April 13,  1978,  Side 1 & 2-tvnWRr1w4RQ.m4a\"\n",
      "[ffmpeg] Destination: Frederic Jameson, April 13,  1978,  Side 1 & 2-tvnWRr1w4RQ.mp3\n",
      "Deleting original file Frederic Jameson, April 13,  1978,  Side 1 & 2-tvnWRr1w4RQ.m4a (pass -k to keep)\n",
      "[download] Downloading video 3 of 3\n",
      "[youtube] ACf0eosxo7I: Downloading webpage\n",
      "[youtube] ACf0eosxo7I: Downloading MPD manifest\n",
      "[download] Destination: Frederic Jameson,  April 07 1978, Side 1 & 2-ACf0eosxo7I.m4a\n",
      "[download] 100% of 95.13MiB in 30:2745KiB/s ETA 00:00231\n",
      "[ffmpeg] Correcting container in \"Frederic Jameson,  April 07 1978, Side 1 & 2-ACf0eosxo7I.m4a\"\n",
      "[ffmpeg] Destination: Frederic Jameson,  April 07 1978, Side 1 & 2-ACf0eosxo7I.mp3\n",
      "Deleting original file Frederic Jameson,  April 07 1978, Side 1 & 2-ACf0eosxo7I.m4a (pass -k to keep)\n",
      "[download] Finished downloading playlist: Frederic Jameson, 1977\n",
      "[youtube:tab] Downloading playlist PLWSJhabmkbWQKIljBwk_zgP-rYlTR6FHZ - add --no-playlist to just download video wFeFPNmjFMQ\n",
      "[youtube:tab] PLWSJhabmkbWQKIljBwk_zgP-rYlTR6FHZ: Downloading webpage\n",
      "[youtube:tab] PLWSJhabmkbWQKIljBwk_zgP-rYlTR6FHZ: Downloading webpage\n",
      "[download] Downloading playlist: Frederic Jameson, 1977\n",
      "[youtube:tab] playlist Frederic Jameson, 1977: Downloading 3 videos\n",
      "[download] Downloading video 1 of 3\n",
      "[youtube] fr38BzBmFNQ: Downloading webpage\n",
      "[youtube] fr38BzBmFNQ: Downloading MPD manifest\n",
      "[download] Downloading video 2 of 3\n",
      "[youtube] tvnWRr1w4RQ: Downloading webpage\n",
      "[youtube] tvnWRr1w4RQ: Downloading MPD manifest\n",
      "[download] Downloading video 3 of 3\n",
      "[youtube] ACf0eosxo7I: Downloading webpage\n",
      "[youtube] ACf0eosxo7I: Downloading MPD manifest\n",
      "[download] Finished downloading playlist: Frederic Jameson, 1977\n"
     ]
    }
   ],
   "source": [
    "with youtube_dl.YoutubeDL(ydl_opts) as ydl:\n",
    "    ydl.download([link])\n",
    "    video_info = ydl.extract_info(link, download=False)\n",
    "    video_title = video_info['title']"
   ]
  },
  {
   "cell_type": "code",
   "execution_count": 51,
   "metadata": {},
   "outputs": [
    {
     "name": "stdout",
     "output_type": "stream",
     "text": [
      "Number of files in folder: 20\n"
     ]
    },
    {
     "data": {
      "text/plain": [
       "[\"Frederic Jameson's Lecture  March 02,  1978.  Side 1 & 2-wErMC64Tbck.mp3\",\n",
       " 'Frederic Jameson,  April 07 1978, Side 1 & 2-ACf0eosxo7I.mp3',\n",
       " \"Frederic Jameson's lecture  October 21 1977 Side 1 and 2-wFeFPNmjFMQ.mp3\",\n",
       " \"Frederic Jameson's Lecture,  November 17 1977 Side 1 and 2-ItjqOVl4yYI.mp3\",\n",
       " \"Frederic Jameson's Lecture October 7 1977 side 1 and 2-7MyAKtnBDu4.mp3\",\n",
       " 'Frederic Jameson,  December 9 1977 Side 1&2-Tewq0TV13rs.mp3',\n",
       " \"Frederic Jameson's lecture, January 19 2918.  Side 1 and 2-EKYVcSDlLIc.mp3\",\n",
       " 'Frederic Jameson, April 13,  1978,  Side 1 & 2-tvnWRr1w4RQ.mp3',\n",
       " \"Frederic Jameson's Lecture, November 18 1977 Side 1 and 2-OMwbgJruiQM.mp3\",\n",
       " 'Frederic Jameson, December 8, 1977,  Side 1&2-IGHAWIfgYEM.mp3',\n",
       " \"Frederic Jameson's Lecture. October 6 1977 Side 1 and 2-TOA0BeUsGoM.mp3\",\n",
       " \"Frederic Jameson's Lecture,  January 20 1978,  Side 1 and 2-9CXo4ePl5-c.mp3\",\n",
       " \"Frederic Jameson's Lecture,  Feb 23, 1978. Side 1 & 2-4U7tClfg6EA.mp3\",\n",
       " \"Frederic Jameson's lecture September 22 1977 Side 1 and 2-HJBHWLLrli8.mp3\",\n",
       " \"Frederic Jameson's lecture, November 4 1997, Side 1 and 2-wm0i7dxV9Vs.mp3\",\n",
       " \"Frederic Jameson's lecture March 03,  1978. Side 1 and 2-6LE4XzpdY_Q.mp3\",\n",
       " \"Frederic Jameson's Lecture,  November 3 1997.  Side 1 and 2-WXZ0aOZJaR0.mp3\",\n",
       " \"Frederic Jameson's lecture, Feb 3 1978,  Side 1 and 2-XWDnr4Op9n4.mp3\",\n",
       " 'Frederic Jameson,  April 14 ,1978 Side 1 &  2-fr38BzBmFNQ.mp3',\n",
       " \"Frederic Jameson's lecture. October 20 1977 Side 1 and 2-HGbOSt-cs3A.mp3\"]"
      ]
     },
     "execution_count": 51,
     "metadata": {},
     "output_type": "execute_result"
    }
   ],
   "source": [
    "folder = os.listdir()\n",
    "\n",
    "mp3s = list()\n",
    "\n",
    "for file in folder:\n",
    "    if file.endswith('.mp3'):\n",
    "        mp3s.append(file)\n",
    "\n",
    "print(f'Number of files in folder: {len(mp3s)}')        \n",
    "mp3s   "
   ]
  },
  {
   "cell_type": "code",
   "execution_count": 6,
   "metadata": {},
   "outputs": [],
   "source": [
    "for mp3 in mp3s:\n",
    "    gfile = drive.CreateFile({'parents': [{'id': config.id}]})\n",
    "    # Read file and set it as the content of this instance.\n",
    "    gfile.SetContentFile(mp3)\n",
    "    gfile.Upload() # Upload the file."
   ]
  },
  {
   "cell_type": "code",
   "execution_count": 39,
   "metadata": {},
   "outputs": [
    {
     "name": "stdout",
     "output_type": "stream",
     "text": [
      "Number of files in gdrive: 20 \n",
      "\n",
      "Frederic Jameson's lecture. October 20 1977 Side 1 and 2-HGbOSt-cs3A.mp3\n",
      "Frederic Jameson,  April 14 ,1978 Side 1 &  2-fr38BzBmFNQ.mp3\n",
      "Frederic Jameson's lecture, Feb 3 1978,  Side 1 and 2-XWDnr4Op9n4.mp3\n",
      "Frederic Jameson's Lecture,  November 3 1997.  Side 1 and 2-WXZ0aOZJaR0.mp3\n",
      "Frederic Jameson's lecture March 03,  1978. Side 1 and 2-6LE4XzpdY_Q.mp3\n",
      "Frederic Jameson's lecture, November 4 1997, Side 1 and 2-wm0i7dxV9Vs.mp3\n",
      "Frederic Jameson's lecture September 22 1977 Side 1 and 2-HJBHWLLrli8.mp3\n",
      "Frederic Jameson's Lecture,  Feb 23, 1978. Side 1 & 2-4U7tClfg6EA.mp3\n",
      "Frederic Jameson's Lecture,  January 20 1978,  Side 1 and 2-9CXo4ePl5-c.mp3\n",
      "Frederic Jameson's Lecture. October 6 1977 Side 1 and 2-TOA0BeUsGoM.mp3\n",
      "Frederic Jameson, December 8, 1977,  Side 1&2-IGHAWIfgYEM.mp3\n",
      "Frederic Jameson's Lecture, November 18 1977 Side 1 and 2-OMwbgJruiQM.mp3\n",
      "Frederic Jameson, April 13,  1978,  Side 1 & 2-tvnWRr1w4RQ.mp3\n",
      "Frederic Jameson's lecture, January 19 2918.  Side 1 and 2-EKYVcSDlLIc.mp3\n",
      "Frederic Jameson,  December 9 1977 Side 1&2-Tewq0TV13rs.mp3\n",
      "Frederic Jameson's Lecture October 7 1977 side 1 and 2-7MyAKtnBDu4.mp3\n",
      "Frederic Jameson's Lecture,  November 17 1977 Side 1 and 2-ItjqOVl4yYI.mp3\n",
      "Frederic Jameson's lecture  October 21 1977 Side 1 and 2-wFeFPNmjFMQ.mp3\n",
      "Frederic Jameson,  April 07 1978, Side 1 & 2-ACf0eosxo7I.mp3\n",
      "Frederic Jameson's Lecture  March 02,  1978.  Side 1 & 2-wErMC64Tbck.mp3\n"
     ]
    }
   ],
   "source": [
    "# confirm upload\n",
    "\n",
    "files = drive.ListFile({'q': f\"'{config.id}' in parents and trashed=false\"}).GetList()\n",
    "\n",
    "print(f'Number of files in gdrive: {len(files)} \\n')        \n",
    "\n",
    "for file in files:\n",
    "    print(f'{file[\"title\"]}')"
   ]
  },
  {
   "cell_type": "code",
   "execution_count": 50,
   "metadata": {},
   "outputs": [
    {
     "name": "stdout",
     "output_type": "stream",
     "text": [
      "Success!\n"
     ]
    }
   ],
   "source": [
    "if len(mp3s) == len(files):\n",
    "    print('Success!')\n",
    "else:\n",
    "    print('Error')"
   ]
  },
  {
   "cell_type": "code",
   "execution_count": 55,
   "metadata": {},
   "outputs": [],
   "source": [
    "for file in folder:\n",
    "    if file.endswith('.mp3') or file.endswith('.m4a'):\n",
    "        os.remove(file)"
   ]
  },
  {
   "cell_type": "code",
   "execution_count": null,
   "metadata": {},
   "outputs": [],
   "source": []
  }
 ],
 "metadata": {
  "kernelspec": {
   "display_name": "Python 3",
   "language": "python",
   "name": "python3"
  },
  "language_info": {
   "codemirror_mode": {
    "name": "ipython",
    "version": 3
   },
   "file_extension": ".py",
   "mimetype": "text/x-python",
   "name": "python",
   "nbconvert_exporter": "python",
   "pygments_lexer": "ipython3",
   "version": "3.8.3"
  }
 },
 "nbformat": 4,
 "nbformat_minor": 4
}
